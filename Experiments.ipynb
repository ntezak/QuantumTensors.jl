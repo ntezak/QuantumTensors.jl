{
 "cells": [
  {
   "cell_type": "raw",
   "metadata": {},
   "source": [
    "\"a\" <= \"b\""
   ]
  },
  {
   "cell_type": "code",
   "execution_count": 16,
   "metadata": {
    "collapsed": false
   },
   "outputs": [
    {
     "data": {
      "text/plain": [
       "<= (generic function with 58 methods)"
      ]
     },
     "execution_count": 16,
     "metadata": {},
     "output_type": "execute_result"
    }
   ],
   "source": [
    "(<=)"
   ]
  },
  {
   "cell_type": "code",
   "execution_count": 5,
   "metadata": {
    "collapsed": false
   },
   "outputs": [
    {
     "data": {
      "text/plain": [
       "2:4"
      ]
     },
     "execution_count": 5,
     "metadata": {},
     "output_type": "execute_result"
    }
   ],
   "source": [
    "1+(1:3)"
   ]
  },
  {
   "cell_type": "code",
   "execution_count": null,
   "metadata": {
    "collapsed": true
   },
   "outputs": [],
   "source": []
  },
  {
   "cell_type": "code",
   "execution_count": null,
   "metadata": {
    "collapsed": true
   },
   "outputs": [],
   "source": []
  },
  {
   "cell_type": "code",
   "execution_count": 24,
   "metadata": {
    "collapsed": false
   },
   "outputs": [
    {
     "ename": "LoadError",
     "evalue": "LoadError: UndefVarError: @operator not defined\nwhile loading In[24], in expression starting on line 1",
     "output_type": "error",
     "traceback": [
      "LoadError: UndefVarError: @operator not defined\nwhile loading In[24], in expression starting on line 1",
      ""
     ]
    }
   ],
   "source": [
    "a = @operator (j,k,N,M) -> sqrt(j)*π(j∈1:M)*δ(j,k-1)"
   ]
  },
  {
   "cell_type": "markdown",
   "metadata": {},
   "source": [
    "A single (off-)diagonal operator can be decomposed as\n",
    "\n",
    "$$\n",
    "A _ {jk} = \\tilde{f(j;I)} \\delta _ {j,k+s} =  f(j;I) \\pi(j;I) \\pi(j-s;I)  \\delta _ {j,k+s} \n",
    "$$\n",
    "\n",
    "where each projector $\\pi(j;I)=\\mathbf{1}_{j\\in I}$ is one iff $j$ is in the range of valid state labels.\n",
    "Given any coefficient generating function $f(j)$ "
   ]
  },
  {
   "cell_type": "code",
   "execution_count": 27,
   "metadata": {
    "collapsed": false
   },
   "outputs": [
    {
     "name": "stdout",
     "output_type": "stream",
     "text": [
      "search: "
     ]
    },
    {
     "data": {
      "text/latex": [
       "\\begin{verbatim}\n",
       "inf(f)\n",
       "\\end{verbatim}\n",
       "Returns positive infinity of the floating point type \\texttt{f} or of the same floating point type as \\texttt{f}\n"
      ],
      "text/markdown": [
       "```\n",
       "inf(f)\n",
       "```\n",
       "\n",
       "Returns positive infinity of the floating point type `f` or of the same floating point type as `f`\n"
      ],
      "text/plain": [
       "```\n",
       "inf(f)\n",
       "```\n",
       "\n",
       "Returns positive infinity of the floating point type `f` or of the same floating point type as `f`\n"
      ]
     },
     "execution_count": 27,
     "metadata": {},
     "output_type": "execute_result"
    },
    {
     "name": "stdout",
     "output_type": "stream",
     "text": [
      "inf info Inf Inf64 Inf32 Inf16 findfirst @printf maxintfloat getaddrinfo\n",
      "\n"
     ]
    }
   ],
   "source": [
    "?inf"
   ]
  },
  {
   "cell_type": "code",
   "execution_count": 29,
   "metadata": {
    "collapsed": false
   },
   "outputs": [
    {
     "name": "stderr",
     "output_type": "stream",
     "text": [
      "WARNING: replacing module Experiments\n"
     ]
    },
    {
     "data": {
      "text/plain": [
       "Experiments.LDiagShift(Experiments.LDiag[Experiments.LShift(Experiments.LConj(Experiments.LDGenerated((anonymous function))),-1)],-1)"
      ]
     },
     "execution_count": 29,
     "metadata": {},
     "output_type": "execute_result"
    }
   ],
   "source": [
    "module Experiments\n",
    "\n",
    "abstract TAlgebra\n",
    "abstract LTerm <: TAlgebra\n",
    "\n",
    "\n",
    "abstract LDiag <: LTerm\n",
    "\n",
    "\n",
    "type LIdentity\n",
    "end\n",
    "\n",
    "type LDGenerated <: LDiag\n",
    "    fn\n",
    "end\n",
    "\n",
    "\n",
    "type LIndicator <: LDiag\n",
    "    l::Int\n",
    "    u::Int\n",
    "end\n",
    "\n",
    "type LShift <: LDiag\n",
    "    op::LDiag\n",
    "    s::Int\n",
    "end\n",
    "\n",
    "type LConj <: LDiag\n",
    "    op::LDiag\n",
    "end\n",
    "\n",
    "type LDiagShift <: LTerm\n",
    "    factors::Vector{LDiag}\n",
    "    s::Int\n",
    "end\n",
    "\n",
    "type TProduct{D} <: TAlgebra\n",
    "    dfactors::NTuple{D,LDiag}\n",
    "    ss::NTuple{D,Int}\n",
    "end\n",
    "\n",
    "\n",
    "import Base: (.*), (*), conj, transpose, ctranspose\n",
    "\n",
    "fss(x::LDiag) = [x], 0\n",
    "fss(x::LTerm) = x.factors, x.s\n",
    "\n",
    "\n",
    "\n",
    "(.*)(x::LIdentity, y::LIdentity) = x\n",
    "(.*)(x::LIdentity, y::LTerm) = y\n",
    "(.*)(x::LTerm, y::LIdentity) = x\n",
    "\n",
    "\n",
    "conj(x::LIdentity) = x\n",
    "conj(x::LDiag) = LConj(x)\n",
    "conj(x::LDiagShift) = LDiagShift([conj(f) for f in x.factors], x.s)\n",
    "\n",
    "transpose(x::LDiag) = x\n",
    "transpose(x::LDiagShift) = LDiagShift([LShift(f,-x.s) for f in x.factors], -x.s)\n",
    "ctranspose(x::LTerm) = transpose(conj(x))\n",
    "\n",
    "\n",
    "lshift(op::LDiag, s) = s ==0 ? op : LShift(op, s)\n",
    "\n",
    "\n",
    "function (.*)(x::LTerm, y::LTerm)\n",
    "    fx, sx = fss(x)\n",
    "    fy, sy = fss(y)\n",
    "    fxy = filter(z->~isa(z, LIdentity), [fx; [lshift(op, sx) for op=fy]])\n",
    "    LDiagShift(fxy, sx+sy)\n",
    "end\n",
    "\n",
    "\n",
    "function rcoeffs(T, li::LIndicator, states)\n",
    "    if li.upper >= li.lower\n",
    "        return [one(T)*(s∈(li.lower:li.upper)) for s=states]\n",
    "    else\n",
    "        return [one(T)*(s>=li.lower) for s=states]\n",
    "    end\n",
    "end\n",
    "\n",
    "function rcoeffs(T, lc::LShift, states)\n",
    "    rcoeffs(T, lc.op, states-lc.s)\n",
    "end\n",
    "\n",
    "\n",
    "function rcoeffs(T, lc::LConj, states)\n",
    "    conj(rcoeffs(T, lc.op, states))\n",
    "end\n",
    "\n",
    "function rcoeffs(T, lc::LShift, states)\n",
    "    rcoeffs(T, lc.op, states-lc.s)\n",
    "end\n",
    "\n",
    "\n",
    "function rcoeffs(T, lg::LDGenerated, states)\n",
    "    convert(Vector{T}, [lg.fn(s) for s=states])\n",
    "end\n",
    "\n",
    "\n",
    "function rcoeffs(T, lds::LDiagShift, states)\n",
    "    (.*)([rcoeffs(T, d, states) for d=lds.factors]...), lds.s\n",
    "end\n",
    "\n",
    "end\n",
    "\n",
    "\n",
    "create = Experiments.LDiagShift([Experiments.LDGenerated(k->sqrt(k))], 1)\n",
    "destroy = ctranspose(create)\n",
    "\n",
    "\n",
    "\n"
   ]
  },
  {
   "cell_type": "code",
   "execution_count": 30,
   "metadata": {
    "collapsed": false
   },
   "outputs": [
    {
     "data": {
      "text/plain": [
       "(([0.0,1.0,1.41421,1.73205,2.0,2.23607,2.44949,2.64575,2.82843,3.0  …  3.31662,3.4641,3.60555,3.74166,3.87298,4.0,4.12311,4.24264,4.3589,4.47214],1),([1.0,1.41421,1.73205,2.0,2.23607,2.44949,2.64575,2.82843,3.0,3.16228  …  3.4641,3.60555,3.74166,3.87298,4.0,4.12311,4.24264,4.3589,4.47214,4.58258],-1))"
      ]
     },
     "execution_count": 30,
     "metadata": {},
     "output_type": "execute_result"
    }
   ],
   "source": [
    "Experiments.rcoeffs(Float64, create, 0:20), Experiments.rcoeffs(Float64, destroy, 0:20)"
   ]
  },
  {
   "cell_type": "code",
   "execution_count": 31,
   "metadata": {
    "collapsed": false
   },
   "outputs": [
    {
     "data": {
      "text/plain": [
       "([0.0,1.0,2.0,3.0,4.0,5.0,6.0,7.0,8.0,9.0  …  11.0,12.0,13.0,14.0,15.0,16.0,17.0,18.0,19.0,20.0],0)"
      ]
     },
     "execution_count": 31,
     "metadata": {},
     "output_type": "execute_result"
    }
   ],
   "source": [
    "Experiments.rcoeffs(Float64, create.*destroy,0:20)"
   ]
  },
  {
   "cell_type": "code",
   "execution_count": 35,
   "metadata": {
    "collapsed": false
   },
   "outputs": [
    {
     "ename": "LoadError",
     "evalue": "LoadError: DomainError:\nsqrt will only return a complex result if called with a complex argument. Try sqrt(complex(x)).\nwhile loading In[35], in expression starting on line 2",
     "output_type": "error",
     "traceback": [
      "LoadError: DomainError:\nsqrt will only return a complex result if called with a complex argument. Try sqrt(complex(x)).\nwhile loading In[35], in expression starting on line 2",
      "",
      " in sqrt at math.jl:146",
      " in anonymous at In[29]:109",
      " in rcoeffs at In[29]:98",
      " in rcoeffs at In[29]:93",
      " in rcoeffs at In[29]:103"
     ]
    }
   ],
   "source": [
    "Experiments.rcoeffs(Float64, destroy.*create,0:20)\n",
    "Experiments.rcoeffs(Float64, create.*create.*destroy.*destroy,0:20)"
   ]
  },
  {
   "cell_type": "code",
   "execution_count": 2,
   "metadata": {
    "collapsed": false
   },
   "outputs": [
    {
     "ename": "LoadError",
     "evalue": "LoadError: UndefVarError: lds not defined\nwhile loading In[2], in expression starting on line 1",
     "output_type": "error",
     "traceback": [
      "LoadError: UndefVarError: lds not defined\nwhile loading In[2], in expression starting on line 1",
      ""
     ]
    }
   ],
   "source": [
    "comm"
   ]
  },
  {
   "cell_type": "code",
   "execution_count": null,
   "metadata": {
    "collapsed": true
   },
   "outputs": [],
   "source": []
  }
 ],
 "metadata": {
  "kernelspec": {
   "display_name": "Julia 0.4.3",
   "language": "julia",
   "name": "julia-0.4"
  },
  "language_info": {
   "file_extension": ".jl",
   "mimetype": "application/julia",
   "name": "julia",
   "version": "0.4.3"
  }
 },
 "nbformat": 4,
 "nbformat_minor": 0
}
